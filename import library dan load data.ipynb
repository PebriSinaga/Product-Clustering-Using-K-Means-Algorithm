{
 "cells": [
  {
   "cell_type": "code",
   "execution_count": 1,
   "metadata": {},
   "outputs": [],
   "source": [
    "import pandas as pd\n",
    "import numpy as np\n",
    "import random as rd\n",
    "import matplotlib.pyplot as plt"
   ]
  },
  {
   "cell_type": "code",
   "execution_count": 2,
   "metadata": {},
   "outputs": [
    {
     "data": {
      "text/html": [
       "<div>\n",
       "<style scoped>\n",
       "    .dataframe tbody tr th:only-of-type {\n",
       "        vertical-align: middle;\n",
       "    }\n",
       "\n",
       "    .dataframe tbody tr th {\n",
       "        vertical-align: top;\n",
       "    }\n",
       "\n",
       "    .dataframe thead th {\n",
       "        text-align: right;\n",
       "    }\n",
       "</style>\n",
       "<table border=\"1\" class=\"dataframe\">\n",
       "  <thead>\n",
       "    <tr style=\"text-align: right;\">\n",
       "      <th></th>\n",
       "      <th>MONTH</th>\n",
       "      <th>STORECODE</th>\n",
       "      <th>QTY</th>\n",
       "      <th>VALUE</th>\n",
       "      <th>GRP</th>\n",
       "      <th>SGRP</th>\n",
       "      <th>SSGRP</th>\n",
       "      <th>CMP</th>\n",
       "      <th>MBRD</th>\n",
       "      <th>BRD</th>\n",
       "    </tr>\n",
       "  </thead>\n",
       "  <tbody>\n",
       "    <tr>\n",
       "      <th>0</th>\n",
       "      <td>M1</td>\n",
       "      <td>P1</td>\n",
       "      <td>25</td>\n",
       "      <td>83</td>\n",
       "      <td>HAIR CONDITIONERS</td>\n",
       "      <td>HAIR CONDITIONERS</td>\n",
       "      <td>HAIR CONDITIONERS</td>\n",
       "      <td>HINDUSTAN UNILEVER LIMITED</td>\n",
       "      <td>DOVE</td>\n",
       "      <td>DOVE HAIR FALL RESCUE</td>\n",
       "    </tr>\n",
       "    <tr>\n",
       "      <th>1</th>\n",
       "      <td>M1</td>\n",
       "      <td>P1</td>\n",
       "      <td>6</td>\n",
       "      <td>22</td>\n",
       "      <td>HAIR CONDITIONERS</td>\n",
       "      <td>HAIR CONDITIONERS</td>\n",
       "      <td>HAIR CONDITIONERS</td>\n",
       "      <td>HINDUSTAN UNILEVER LIMITED</td>\n",
       "      <td>DOVE</td>\n",
       "      <td>DOVE INTENSE REPAIR</td>\n",
       "    </tr>\n",
       "    <tr>\n",
       "      <th>2</th>\n",
       "      <td>M1</td>\n",
       "      <td>P1</td>\n",
       "      <td>4</td>\n",
       "      <td>15</td>\n",
       "      <td>HAIR CONDITIONERS</td>\n",
       "      <td>HAIR CONDITIONERS</td>\n",
       "      <td>HAIR CONDITIONERS</td>\n",
       "      <td>HINDUSTAN UNILEVER LIMITED</td>\n",
       "      <td>DOVE</td>\n",
       "      <td>DOVE OXYGEN MOISTURE</td>\n",
       "    </tr>\n",
       "    <tr>\n",
       "      <th>3</th>\n",
       "      <td>M1</td>\n",
       "      <td>P1</td>\n",
       "      <td>15</td>\n",
       "      <td>60</td>\n",
       "      <td>HAIR CONDITIONERS</td>\n",
       "      <td>HAIR CONDITIONERS</td>\n",
       "      <td>HAIR CONDITIONERS</td>\n",
       "      <td>L'OREAL INDIA</td>\n",
       "      <td>GARNIER</td>\n",
       "      <td>FRUCTIS</td>\n",
       "    </tr>\n",
       "    <tr>\n",
       "      <th>4</th>\n",
       "      <td>M1</td>\n",
       "      <td>P2</td>\n",
       "      <td>0</td>\n",
       "      <td>0</td>\n",
       "      <td>HAIR CONDITIONERS</td>\n",
       "      <td>HAIR CONDITIONERS</td>\n",
       "      <td>HAIR CONDITIONERS</td>\n",
       "      <td>HINDUSTAN UNILEVER LIMITED</td>\n",
       "      <td>CLINIC PLUS</td>\n",
       "      <td>CLINIC PLUS</td>\n",
       "    </tr>\n",
       "  </tbody>\n",
       "</table>\n",
       "</div>"
      ],
      "text/plain": [
       "  MONTH STORECODE  QTY  VALUE                GRP               SGRP  \\\n",
       "0    M1        P1   25     83  HAIR CONDITIONERS  HAIR CONDITIONERS   \n",
       "1    M1        P1    6     22  HAIR CONDITIONERS  HAIR CONDITIONERS   \n",
       "2    M1        P1    4     15  HAIR CONDITIONERS  HAIR CONDITIONERS   \n",
       "3    M1        P1   15     60  HAIR CONDITIONERS  HAIR CONDITIONERS   \n",
       "4    M1        P2    0      0  HAIR CONDITIONERS  HAIR CONDITIONERS   \n",
       "\n",
       "               SSGRP                         CMP         MBRD  \\\n",
       "0  HAIR CONDITIONERS  HINDUSTAN UNILEVER LIMITED         DOVE   \n",
       "1  HAIR CONDITIONERS  HINDUSTAN UNILEVER LIMITED         DOVE   \n",
       "2  HAIR CONDITIONERS  HINDUSTAN UNILEVER LIMITED         DOVE   \n",
       "3  HAIR CONDITIONERS               L'OREAL INDIA      GARNIER   \n",
       "4  HAIR CONDITIONERS  HINDUSTAN UNILEVER LIMITED  CLINIC PLUS   \n",
       "\n",
       "                     BRD  \n",
       "0  DOVE HAIR FALL RESCUE  \n",
       "1    DOVE INTENSE REPAIR  \n",
       "2   DOVE OXYGEN MOISTURE  \n",
       "3                FRUCTIS  \n",
       "4            CLINIC PLUS  "
      ]
     },
     "execution_count": 2,
     "metadata": {},
     "output_type": "execute_result"
    }
   ],
   "source": [
    "data = pd.read_csv('./Hackathon_Ideal_Data.csv')\n",
    "data.head()"
   ]
  },
  {
   "cell_type": "code",
   "execution_count": 5,
   "metadata": {},
   "outputs": [
    {
     "name": "stdout",
     "output_type": "stream",
     "text": [
      "  MONTH STORECODE  QTY  VALUE                GRP\n",
      "0    M1        P1   25     83  HAIR CONDITIONERS\n",
      "1    M1        P1    6     22  HAIR CONDITIONERS\n",
      "2    M1        P1    4     15  HAIR CONDITIONERS\n",
      "3    M1        P1   15     60  HAIR CONDITIONERS\n",
      "4    M1        P2    0      0  HAIR CONDITIONERS\n",
      "5    M1        P2    1     90  HAIR CONDITIONERS\n",
      "6    M1        P2    0      0  HAIR CONDITIONERS\n",
      "7    M1        P2   10     34  HAIR CONDITIONERS\n",
      "8    M1        P2   11     37  HAIR CONDITIONERS\n",
      "9    M1        P2    2      7  HAIR CONDITIONERS\n"
     ]
    }
   ],
   "source": [
    "print(data.fillna(0).iloc[0:10, 0:5])"
   ]
  },
  {
   "cell_type": "code",
   "execution_count": 6,
   "metadata": {},
   "outputs": [
    {
     "name": "stdout",
     "output_type": "stream",
     "text": [
      "  MONTH STORECODE  QTY  VALUE                GRP\n",
      "0    M1        P1   25     83  HAIR CONDITIONERS\n",
      "1    M1        P1    6     22  HAIR CONDITIONERS\n",
      "2    M1        P1    4     15  HAIR CONDITIONERS\n",
      "3    M1        P1   15     60  HAIR CONDITIONERS\n",
      "4    M1        P2    0      0  HAIR CONDITIONERS\n",
      "5    M1        P2    1     90  HAIR CONDITIONERS\n",
      "6    M1        P2    0      0  HAIR CONDITIONERS\n",
      "7    M1        P2   10     34  HAIR CONDITIONERS\n",
      "8    M1        P2   11     37  HAIR CONDITIONERS\n",
      "9    M1        P2    2      7  HAIR CONDITIONERS\n"
     ]
    }
   ],
   "source": [
    "print(data.fillna(method='ffill').iloc[0:10, 0:5])"
   ]
  },
  {
   "cell_type": "code",
   "execution_count": 7,
   "metadata": {},
   "outputs": [
    {
     "name": "stdout",
     "output_type": "stream",
     "text": [
      "      MONTH STORECODE  QTY  VALUE                       GRP\n",
      "14255    M3       P10    0      0  SUGAR SUBSTITUTE (11/05)\n",
      "14256    M3        P8    1     62  SUGAR SUBSTITUTE (11/05)\n",
      "14257    M1        P6    0      0  SUGAR SUBSTITUTE (11/05)\n",
      "14258    M1       P10    0      0  SUGAR SUBSTITUTE (11/05)\n",
      "14259    M1        P8    1     62  SUGAR SUBSTITUTE (11/05)\n"
     ]
    }
   ],
   "source": [
    "print(data.fillna(method='bfill').iloc[:,0:5].tail())"
   ]
  },
  {
   "cell_type": "code",
   "execution_count": 8,
   "metadata": {},
   "outputs": [
    {
     "name": "stdout",
     "output_type": "stream",
     "text": [
      "  MONTH STORECODE  QTY  VALUE                GRP\n",
      "0    M1        P1   25     83  HAIR CONDITIONERS\n",
      "1    M1        P1    6     22  HAIR CONDITIONERS\n",
      "2    M1        P1    4     15  HAIR CONDITIONERS\n",
      "3    M1        P1   15     60  HAIR CONDITIONERS\n",
      "4    M1        P2    0      0  HAIR CONDITIONERS\n",
      "5    M1        P2    1     90  HAIR CONDITIONERS\n",
      "6    M1        P2    0      0  HAIR CONDITIONERS\n",
      "7    M1        P2   10     34  HAIR CONDITIONERS\n",
      "8    M1        P2   11     37  HAIR CONDITIONERS\n",
      "9    M1        P2    2      7  HAIR CONDITIONERS\n"
     ]
    }
   ],
   "source": [
    "print(data.interpolate().iloc[0:10,0:5])"
   ]
  },
  {
   "cell_type": "code",
   "execution_count": 9,
   "metadata": {},
   "outputs": [
    {
     "name": "stdout",
     "output_type": "stream",
     "text": [
      "(14260, 10)\n"
     ]
    }
   ],
   "source": [
    "print(data.shape)"
   ]
  },
  {
   "cell_type": "code",
   "execution_count": 10,
   "metadata": {},
   "outputs": [
    {
     "name": "stdout",
     "output_type": "stream",
     "text": [
      "(14260, 10)\n"
     ]
    }
   ],
   "source": [
    "data_dropna = data.dropna()\n",
    "print(data_dropna.shape)"
   ]
  },
  {
   "cell_type": "code",
   "execution_count": 11,
   "metadata": {},
   "outputs": [
    {
     "name": "stdout",
     "output_type": "stream",
     "text": [
      "      MONTH STORECODE  QTY  VALUE                       GRP  \\\n",
      "0        M1        P1   25     83         HAIR CONDITIONERS   \n",
      "1        M1        P1    6     22         HAIR CONDITIONERS   \n",
      "2        M1        P1    4     15         HAIR CONDITIONERS   \n",
      "3        M1        P1   15     60         HAIR CONDITIONERS   \n",
      "4        M1        P2    0      0         HAIR CONDITIONERS   \n",
      "...     ...       ...  ...    ...                       ...   \n",
      "14255    M3       P10    0      0  SUGAR SUBSTITUTE (11/05)   \n",
      "14256    M3        P8    1     62  SUGAR SUBSTITUTE (11/05)   \n",
      "14257    M1        P6    0      0  SUGAR SUBSTITUTE (11/05)   \n",
      "14258    M1       P10    0      0  SUGAR SUBSTITUTE (11/05)   \n",
      "14259    M1        P8    1     62  SUGAR SUBSTITUTE (11/05)   \n",
      "\n",
      "                        SGRP                  SSGRP  \\\n",
      "0          HAIR CONDITIONERS      HAIR CONDITIONERS   \n",
      "1          HAIR CONDITIONERS      HAIR CONDITIONERS   \n",
      "2          HAIR CONDITIONERS      HAIR CONDITIONERS   \n",
      "3          HAIR CONDITIONERS      HAIR CONDITIONERS   \n",
      "4          HAIR CONDITIONERS      HAIR CONDITIONERS   \n",
      "...                      ...                    ...   \n",
      "14255   POWDER (SUGAR SUBST)   POWDER (SUGAR SUBST)   \n",
      "14256  PELLETS (SUGAR SUBST)  PELLETS (SUGAR SUBST)   \n",
      "14257  PELLETS (SUGAR SUBST)  PELLETS (SUGAR SUBST)   \n",
      "14258   POWDER (SUGAR SUBST)   POWDER (SUGAR SUBST)   \n",
      "14259  PELLETS (SUGAR SUBST)  PELLETS (SUGAR SUBST)   \n",
      "\n",
      "                              CMP         MBRD                    BRD  \n",
      "0      HINDUSTAN UNILEVER LIMITED         DOVE  DOVE HAIR FALL RESCUE  \n",
      "1      HINDUSTAN UNILEVER LIMITED         DOVE    DOVE INTENSE REPAIR  \n",
      "2      HINDUSTAN UNILEVER LIMITED         DOVE   DOVE OXYGEN MOISTURE  \n",
      "3                   L'OREAL INDIA      GARNIER                FRUCTIS  \n",
      "4      HINDUSTAN UNILEVER LIMITED  CLINIC PLUS            CLINIC PLUS  \n",
      "...                           ...          ...                    ...  \n",
      "14255          ZYDUS WELLNESS LTD   SUGAR FREE        SUGAR FREE GOLD  \n",
      "14256          ZYDUS WELLNESS LTD   SUGAR FREE        SUGAR FREE GOLD  \n",
      "14257          ZYDUS WELLNESS LTD   SUGAR FREE        SUGAR FREE GOLD  \n",
      "14258          ZYDUS WELLNESS LTD   SUGAR FREE        SUGAR FREE GOLD  \n",
      "14259          ZYDUS WELLNESS LTD   SUGAR FREE        SUGAR FREE GOLD  \n",
      "\n",
      "[14260 rows x 10 columns]\n"
     ]
    }
   ],
   "source": [
    "print(data_dropna)"
   ]
  },
  {
   "cell_type": "code",
   "execution_count": null,
   "metadata": {},
   "outputs": [],
   "source": []
  }
 ],
 "metadata": {
  "kernelspec": {
   "display_name": "Python 3",
   "language": "python",
   "name": "python3"
  },
  "language_info": {
   "codemirror_mode": {
    "name": "ipython",
    "version": 3
   },
   "file_extension": ".py",
   "mimetype": "text/x-python",
   "name": "python",
   "nbconvert_exporter": "python",
   "pygments_lexer": "ipython3",
   "version": "3.6.5"
  }
 },
 "nbformat": 4,
 "nbformat_minor": 2
}
